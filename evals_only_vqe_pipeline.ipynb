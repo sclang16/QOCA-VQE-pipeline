{
 "metadata": {
  "language_info": {
   "codemirror_mode": {
    "name": "ipython",
    "version": 3
   },
   "file_extension": ".py",
   "mimetype": "text/x-python",
   "name": "python",
   "nbconvert_exporter": "python",
   "pygments_lexer": "ipython3",
   "version": "3.7.9"
  },
  "orig_nbformat": 2,
  "kernelspec": {
   "name": "python3",
   "display_name": "Python 3",
   "language": "python"
  }
 },
 "nbformat": 4,
 "nbformat_minor": 2,
 "cells": [
  {
   "cell_type": "code",
   "execution_count": 14,
   "metadata": {},
   "outputs": [
    {
     "output_type": "stream",
     "name": "stderr",
     "text": [
      "ibmqfactory.load_account:WARNING:2021-04-06 15:46:49,109: Credentials are already in use. The existing account in the session will be replaced.\n"
     ]
    }
   ],
   "source": [
    "from qiskit import BasicAer, Aer, IBMQ\n",
    "from qiskit.aqua.algorithms import VQE, NumPyEigensolver\n",
    "from qiskit.aqua.components.optimizers import SLSQP, COBYLA, SPSA\n",
    "from qiskit.aqua.operators import Z2Symmetries\n",
    "\n",
    "from qiskit.chemistry import FermionicOperator\n",
    "from qiskit.chemistry.drivers import PySCFDriver, UnitsType\n",
    "from qiskit.chemistry.components.variational_forms import UCCSD\n",
    "from qiskit.chemistry.components.initial_states import HartreeFock\n",
    "\n",
    "from qiskit.providers.aer import QasmSimulator\n",
    "\n",
    "provider = IBMQ.load_account()\n",
    "\n",
    "import datetime\n",
    "import numpy as np\n",
    "import matplotlib.pyplot as plt\n",
    "\n",
    "from qoca import QOCA"
   ]
  },
  {
   "cell_type": "code",
   "execution_count": 15,
   "metadata": {},
   "outputs": [],
   "source": [
    "import warnings;\n",
    "warnings.filterwarnings('ignore');"
   ]
  },
  {
   "cell_type": "code",
   "execution_count": 16,
   "metadata": {},
   "outputs": [],
   "source": [
    "def get_LiH_qubit_op_by_bond_length(dist):\n",
    "    \"\"\" Get the qubit operator for Lithium Hydride (LiH) when atoms are at a certain distance apart.\n",
    "    \n",
    "    ARGS:\n",
    "        dist (float): The bondlength of LiH\n",
    "        \n",
    "    Returns:\n",
    "        qubitOp (Operator): The qubit operator representing the\n",
    "            hamiltonian for LiH at the given bondlength\n",
    "        num_particles (int): The number of particles\n",
    "        num_spin_orbitals (int): The number of spin orbitals\n",
    "        shift (float): The offset to add to get the true energy of the \n",
    "            hamiltonian\n",
    "    \"\"\"\n",
    "    driver = PySCFDriver(atom=\"Li .0 .0 .0; H .0 .0 \" + str(dist), unit=UnitsType.ANGSTROM, \n",
    "                         charge=0, spin=0, basis='sto3g')\n",
    "    molecule = driver.run()\n",
    "    freeze_list = [0]\n",
    "    remove_list = [-3, -2]\n",
    "    repulsion_energy = molecule.nuclear_repulsion_energy\n",
    "    num_particles = molecule.num_alpha + molecule.num_beta\n",
    "    num_spin_orbitals = molecule.num_orbitals * 2\n",
    "    remove_list = [x % molecule.num_orbitals for x in remove_list]\n",
    "    freeze_list = [x % molecule.num_orbitals for x in freeze_list]\n",
    "    remove_list = [x - len(freeze_list) for x in remove_list]\n",
    "    remove_list += [x + molecule.num_orbitals - len(freeze_list)  for x in remove_list]\n",
    "    freeze_list += [x + molecule.num_orbitals for x in freeze_list]\n",
    "    ferOp = FermionicOperator(h1=molecule.one_body_integrals, h2=molecule.two_body_integrals)\n",
    "    ferOp, energy_shift = ferOp.fermion_mode_freezing(freeze_list)\n",
    "    num_spin_orbitals -= len(freeze_list)\n",
    "    num_particles -= len(freeze_list)\n",
    "    ferOp = ferOp.fermion_mode_elimination(remove_list)\n",
    "    num_spin_orbitals -= len(remove_list)\n",
    "    qubitOp = ferOp.mapping(map_type='parity', threshold=0.00000001)\n",
    "    qubitOp = Z2Symmetries.two_qubit_reduction(qubitOp, num_particles)\n",
    "    shift = energy_shift + repulsion_energy\n",
    "    return ferOp, qubitOp, num_particles, num_spin_orbitals, shift"
   ]
  },
  {
   "cell_type": "code",
   "execution_count": 35,
   "metadata": {
    "tags": []
   },
   "outputs": [
    {
     "output_type": "error",
     "ename": "TypeError",
     "evalue": "must be real number, not WeightedPauliOperator",
     "traceback": [
      "\u001b[0;31m---------------------------------------------------------------------------\u001b[0m",
      "\u001b[0;31mTypeError\u001b[0m                                 Traceback (most recent call last)",
      "\u001b[0;32m<ipython-input-35-99adf0936013>\u001b[0m in \u001b[0;36m<module>\u001b[0;34m\u001b[0m\n\u001b[1;32m     11\u001b[0m \u001b[0mqubitOp\u001b[0m \u001b[0;34m=\u001b[0m \u001b[0mferOp\u001b[0m\u001b[0;34m.\u001b[0m\u001b[0mmapping\u001b[0m\u001b[0;34m(\u001b[0m\u001b[0mmap_type\u001b[0m \u001b[0;34m=\u001b[0m \u001b[0;34m\"jordan_wigner\"\u001b[0m\u001b[0;34m,\u001b[0m \u001b[0mthreshold\u001b[0m\u001b[0;34m=\u001b[0m\u001b[0;36m0.00000001\u001b[0m\u001b[0;34m)\u001b[0m\u001b[0;34m\u001b[0m\u001b[0;34m\u001b[0m\u001b[0m\n\u001b[1;32m     12\u001b[0m \u001b[0mevol\u001b[0m \u001b[0;34m=\u001b[0m \u001b[0mMatrixEvolution\u001b[0m\u001b[0;34m(\u001b[0m\u001b[0;34m)\u001b[0m\u001b[0;34m.\u001b[0m\u001b[0mconvert\u001b[0m\u001b[0;34m(\u001b[0m\u001b[0moperator\u001b[0m \u001b[0;34m=\u001b[0m \u001b[0mqubitOp\u001b[0m\u001b[0;34m)\u001b[0m\u001b[0;34m\u001b[0m\u001b[0;34m\u001b[0m\u001b[0m\n\u001b[0;32m---> 13\u001b[0;31m \u001b[0mcircuit\u001b[0m\u001b[0;34m.\u001b[0m\u001b[0mappend\u001b[0m\u001b[0;34m(\u001b[0m\u001b[0mUnitaryGate\u001b[0m\u001b[0;34m(\u001b[0m\u001b[0mqubitOp\u001b[0m\u001b[0;34m,\u001b[0m \u001b[0mlabel\u001b[0m \u001b[0;34m=\u001b[0m \u001b[0;32mNone\u001b[0m\u001b[0;34m)\u001b[0m\u001b[0;34m,\u001b[0m\u001b[0;34m[\u001b[0m\u001b[0;36m0\u001b[0m\u001b[0;34m,\u001b[0m\u001b[0mnum_h_qubits\u001b[0m\u001b[0;34m]\u001b[0m\u001b[0;34m,\u001b[0m\u001b[0;34m[\u001b[0m\u001b[0;34m]\u001b[0m\u001b[0;34m)\u001b[0m\u001b[0;34m\u001b[0m\u001b[0;34m\u001b[0m\u001b[0m\n\u001b[0m\u001b[1;32m     14\u001b[0m \u001b[0mcircuit\u001b[0m\u001b[0;34m.\u001b[0m\u001b[0mdraw\u001b[0m\u001b[0;34m(\u001b[0m\u001b[0;34m)\u001b[0m\u001b[0;34m\u001b[0m\u001b[0;34m\u001b[0m\u001b[0m\n",
      "\u001b[0;32m~/qoca/venv/lib/python3.7/site-packages/qiskit/extensions/unitary.py\u001b[0m in \u001b[0;36m__init__\u001b[0;34m(self, data, label)\u001b[0m\n\u001b[1;32m     57\u001b[0m             \u001b[0mdata\u001b[0m \u001b[0;34m=\u001b[0m \u001b[0mdata\u001b[0m\u001b[0;34m.\u001b[0m\u001b[0mto_operator\u001b[0m\u001b[0;34m(\u001b[0m\u001b[0;34m)\u001b[0m\u001b[0;34m.\u001b[0m\u001b[0mdata\u001b[0m\u001b[0;34m\u001b[0m\u001b[0;34m\u001b[0m\u001b[0m\n\u001b[1;32m     58\u001b[0m         \u001b[0;31m# Convert to numpy array in case not already an array\u001b[0m\u001b[0;34m\u001b[0m\u001b[0;34m\u001b[0m\u001b[0;34m\u001b[0m\u001b[0m\n\u001b[0;32m---> 59\u001b[0;31m         \u001b[0mdata\u001b[0m \u001b[0;34m=\u001b[0m \u001b[0mnumpy\u001b[0m\u001b[0;34m.\u001b[0m\u001b[0marray\u001b[0m\u001b[0;34m(\u001b[0m\u001b[0mdata\u001b[0m\u001b[0;34m,\u001b[0m \u001b[0mdtype\u001b[0m\u001b[0;34m=\u001b[0m\u001b[0mcomplex\u001b[0m\u001b[0;34m)\u001b[0m\u001b[0;34m\u001b[0m\u001b[0;34m\u001b[0m\u001b[0m\n\u001b[0m\u001b[1;32m     60\u001b[0m         \u001b[0;31m# Check input is unitary\u001b[0m\u001b[0;34m\u001b[0m\u001b[0;34m\u001b[0m\u001b[0;34m\u001b[0m\u001b[0m\n\u001b[1;32m     61\u001b[0m         \u001b[0;32mif\u001b[0m \u001b[0;32mnot\u001b[0m \u001b[0mis_unitary_matrix\u001b[0m\u001b[0;34m(\u001b[0m\u001b[0mdata\u001b[0m\u001b[0;34m)\u001b[0m\u001b[0;34m:\u001b[0m\u001b[0;34m\u001b[0m\u001b[0;34m\u001b[0m\u001b[0m\n",
      "\u001b[0;31mTypeError\u001b[0m: must be real number, not WeightedPauliOperator"
     ]
    }
   ],
   "source": [
    "from qiskit import QuantumCircuit\n",
    "from qiskit.extensions import UnitaryGate\n",
    "from qiskit.aqua.operators.evolutions import MatrixEvolution\n",
    "\n",
    "driver = PySCFDriver(atom=\"Li .0 .0 .0; H .0 .0 .6\", unit=UnitsType.ANGSTROM, \n",
    "                        charge=0, spin=0, basis='sto3g')\n",
    "molecule = driver.run()\n",
    "ferOp = FermionicOperator(h1=molecule.one_body_integrals, h2=molecule.two_body_integrals)\n",
    "num_h_qubits = ferOp._modes\n",
    "circuit = QuantumCircuit(num_h_qubits)\n",
    "qubitOp = ferOp.mapping(map_type = \"jordan_wigner\", threshold=0.00000001)\n",
    "evol = MatrixEvolution().convert(operator = qubitOp)\n",
    "circuit.append(UnitaryGate(qubitOp, label = None),[0,num_h_qubits],[])\n",
    "circuit.draw()"
   ]
  },
  {
   "cell_type": "code",
   "execution_count": null,
   "metadata": {},
   "outputs": [],
   "source": [
    "def exact_eng(distance):\n",
    "    \"\"\" Calculate the ground state energies classically by eigensolver.\n",
    "\n",
    "    ARGS:\n",
    "        distanc (float): bond length of LiH\n",
    "\n",
    "    Returns:\n",
    "        exact_energies (float[]): array of eigensolver-calculated ground state\n",
    "            energies across the range in distances\n",
    "    \"\"\"\n",
    "    exact_energies = []\n",
    "\n",
    "    _, qubitOp, _, _, shift = get_LiH_qubit_op_by_bond_length(distance)\n",
    "    result = NumPyEigensolver(qubitOp).run()\n",
    "    exact_energies.append(np.real(result.eigenvalues) + shift)\n",
    "    return exact_energies"
   ]
  },
  {
   "cell_type": "code",
   "execution_count": null,
   "metadata": {},
   "outputs": [],
   "source": [
    "def get_UCCSD_var_form(num_spin_orbitals, num_particles, initial_state):\n",
    "    vf = UCCSD(\n",
    "                num_orbitals=num_spin_orbitals,\n",
    "                num_particles=num_particles,\n",
    "                initial_state=initial_state,\n",
    "                qubit_mapping='parity'\n",
    "    )\n",
    "    return vf"
   ]
  },
  {
   "cell_type": "code",
   "execution_count": null,
   "metadata": {},
   "outputs": [],
   "source": [
    "def get_QOCA_var_form(ferOp, num_spin_orbitals, initial_state):\n",
    "    vf = QOCA(\n",
    "            ferm_operator = ferOp,\n",
    "            num_qubits = num_spin_orbitals - 2, \n",
    "            reps = 1, \n",
    "            initial_state = initial_state\n",
    "    )\n",
    "    return vf"
   ]
  },
  {
   "cell_type": "code",
   "execution_count": null,
   "metadata": {},
   "outputs": [],
   "source": [
    "def vqe_run_callback(qubitOp, variational_circ, optimizers, opt, backend, shift):\n",
    "    \"\"\" Runs VQE for an individual measurement, with callback to\n",
    "            record energy variations over each eval\n",
    "\n",
    "        ARGS:\n",
    "            qubitOp (Operator): The qubit operator representing the\n",
    "                hamiltonian for LiH at the given bondlength\n",
    "            variational_circ (VariationalForm): The parameterized ansatz\n",
    "                circuit\n",
    "            optimizers (dict(Optimizer)): initialized optimizer dictionary\n",
    "            opt (int): index of optimizers\n",
    "            backend (Backend): simulator or physical quantum backend for\n",
    "                running variational circuit        \n",
    "            shift (float): The offset to add to get the true energy of the \n",
    "                hamiltonian\n",
    "\n",
    "        Returns:\n",
    "            vqe_result (float): (float[]): VQE-estimated ground state energy\n",
    "            itrs (int): Evaluation number\n",
    "            vals (float): Mean estimated ground state energy at given eval\n",
    "            stdevs (float): Standard deviation at eval\n",
    "\n",
    "    \"\"\"\n",
    "    itrs = []\n",
    "    vals = []\n",
    "    stdevs = []\n",
    "    \n",
    "    def get_eval_result(num_eval, params, mean, std):\n",
    "        itrs.append(num_eval)\n",
    "        vals.append(mean)\n",
    "        stdevs.append(std)\n",
    "    \n",
    "    vqe = VQE(qubitOp, variational_circ, optimizers[opt],callback=get_eval_result)\n",
    "    vqe_result = np.real(vqe.run(backend)['eigenvalue'] + shift)\n",
    "    return vqe_result, itrs, vals, stdevs"
   ]
  },
  {
   "cell_type": "code",
   "execution_count": null,
   "metadata": {},
   "outputs": [],
   "source": [
    "def vqe_test(distance, optimizers, backend, ansatz_type):\n",
    "    \"\"\" Main cell for running the LiH VQE pipeline\n",
    "\n",
    "        ARGS:\n",
    "            distance (float): bondlength of LiH\n",
    "            optimizers (dict(Optimizer)): initialized optimizer dictionary\n",
    "            backend (Backend): simulator or physical quantum backend for\n",
    "                running variational circuit\n",
    "            ansatz_type (String): variational circuit type to be\n",
    "                used in VQE (currently only UCCSD is supported)\n",
    "\n",
    "        Returns:\n",
    "            exact_energies (float[]): array of eigensolver-calculated ground state\n",
    "                energies across the range in distances\n",
    "            vqe_energies (float[]): VQE-estimated ground state energies for range\n",
    "                of bond lengths\n",
    "            converge_itrs (int[]): Evaluation number, up to required evaluations\n",
    "                to reach minimum\n",
    "            converge_vals (float[]): : Mean estimated ground state energy at each \n",
    "                given eval\n",
    "            converge_stdevs (float[]): Standard deviation at each eval\n",
    "\n",
    "    \"\"\"\n",
    "    exact_energies = []\n",
    "    vqe_energies = [[] for i in range(len(optimizers))]\n",
    "    vqe_result = []\n",
    "    converge_itrs = [[] for i in range(len(optimizers))]\n",
    "    converge_vals = [[] for i in range(len(optimizers))]\n",
    "    converge_stdevs = [[] for i in range(len(optimizers))]\n",
    "    \n",
    "    n = 0\n",
    "    ct = datetime.datetime.now()\n",
    "    print(\"Start - \",ct)\n",
    "    exact_eng(distance)\n",
    "    for opt in optimizers:\n",
    "        ferOp, qubitOp, num_particles, num_spin_orbitals, shift = get_LiH_qubit_op_by_bond_length(distance)\n",
    "        initial_state = HartreeFock(\n",
    "                num_spin_orbitals,\n",
    "                num_particles,\n",
    "                qubit_mapping='parity'\n",
    "        )\n",
    "        if ansatz_type == \"UCCSD\":\n",
    "            variational_circ = get_UCCSD_var_form(num_spin_orbitals, num_particles, initial_state)\n",
    "        elif ansatz_type == \"QOCA\":\n",
    "            variational_circ = get_QOCA_var_form(ferOp, num_spin_orbitals, initial_state)\n",
    "        else:\n",
    "            raise RuntimeError(\"Unsupported ansatz\")\n",
    "            \n",
    "        vqe_result, converge_itrs[n], converge_vals[n], converge_stdevs[n] = vqe_run_callback(qubitOp, variational_circ, optimizers, opt, backend, shift)\n",
    "        vqe_energies[n].append(vqe_result)\n",
    "\n",
    "        n += 1\n",
    "        ct = datetime.datetime.now()\n",
    "        print(opt,\"Finish - \",ct)\n",
    "\n",
    "    print(\"VQE Complete\")\n",
    "    return exact_energies, vqe_energies, converge_itrs, converge_vals, converge_stdevs"
   ]
  },
  {
   "cell_type": "code",
   "execution_count": null,
   "metadata": {},
   "outputs": [],
   "source": [
    "def plot_iterations(opt_labels, converge_itrs, converge_vals):\n",
    "    \"\"\" Generates energy convergence plot for each optimizer\n",
    "\n",
    "        ARGS:\n",
    "            opt_labels (String[]): names of trials to generate legend\n",
    "            converge_itrs (int[]): Evaluation number, up to required evaluations\n",
    "                to reach minimum\n",
    "            converge_vals (float[]): : Mean estimated ground state energy at each \n",
    "                given eval\n",
    "\n",
    "        Returns: N/A\n",
    "\n",
    "    \"\"\"\n",
    "    for i in range(len(opt_labels)):\n",
    "        plt.plot(converge_itrs[i], converge_vals[i], label=\"VQE Energy - %s\" % (opt_labels[i]))\n",
    "    plt.xlabel('Eval Count')\n",
    "    plt.ylabel('Energy Difference')\n",
    "    plt.title('VQE Convergence')\n",
    "    plt.legend()\n",
    "    plt.show()"
   ]
  },
  {
   "cell_type": "code",
   "execution_count": null,
   "metadata": {},
   "outputs": [],
   "source": [
    "backend = BasicAer.get_backend(\"qasm_simulator\")\n",
    "ds = 1.6\n",
    "os = {\"SLSQP\":SLSQP(maxiter=5),\n",
    "      \"COBYLA\":COBYLA(maxiter=500, disp=False, rhobeg=1.0, tol=0.2),\n",
    "      \"SPSA\":SPSA(maxiter=50, save_steps=1, last_avg=1, c0=1.0, c1=0.1, c2=0.15, c3=0.02, c4=-0.4, skip_calibration=True)}\n",
    "\n",
    "exact_energies, vqe_energies, converge_itrs, converge_vals, converge_stdevs = vqe_test(distance = ds, optimizers = os, backend = backend, ansatz_type = \"QOCA\")"
   ]
  },
  {
   "cell_type": "code",
   "execution_count": null,
   "metadata": {},
   "outputs": [],
   "source": [
    "plot_iterations(opt_labels = [\"SLSQP\",\"COBYLA\",\"SPSA\"], converge_itrs = converge_itrs, converge_vals = converge_vals)"
   ]
  },
  {
   "cell_type": "code",
   "execution_count": null,
   "metadata": {},
   "outputs": [],
   "source": []
  }
 ]
}